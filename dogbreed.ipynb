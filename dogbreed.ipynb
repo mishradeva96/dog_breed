{
 "cells": [
  {
   "cell_type": "code",
   "execution_count": 1,
   "metadata": {},
   "outputs": [
    {
     "name": "stderr",
     "output_type": "stream",
     "text": [
      "C:\\ProgramData\\Anaconda3\\lib\\site-packages\\tensorflow\\python\\framework\\dtypes.py:526: FutureWarning: Passing (type, 1) or '1type' as a synonym of type is deprecated; in a future version of numpy, it will be understood as (type, (1,)) / '(1,)type'.\n",
      "  _np_qint8 = np.dtype([(\"qint8\", np.int8, 1)])\n",
      "C:\\ProgramData\\Anaconda3\\lib\\site-packages\\tensorflow\\python\\framework\\dtypes.py:527: FutureWarning: Passing (type, 1) or '1type' as a synonym of type is deprecated; in a future version of numpy, it will be understood as (type, (1,)) / '(1,)type'.\n",
      "  _np_quint8 = np.dtype([(\"quint8\", np.uint8, 1)])\n",
      "C:\\ProgramData\\Anaconda3\\lib\\site-packages\\tensorflow\\python\\framework\\dtypes.py:528: FutureWarning: Passing (type, 1) or '1type' as a synonym of type is deprecated; in a future version of numpy, it will be understood as (type, (1,)) / '(1,)type'.\n",
      "  _np_qint16 = np.dtype([(\"qint16\", np.int16, 1)])\n",
      "C:\\ProgramData\\Anaconda3\\lib\\site-packages\\tensorflow\\python\\framework\\dtypes.py:529: FutureWarning: Passing (type, 1) or '1type' as a synonym of type is deprecated; in a future version of numpy, it will be understood as (type, (1,)) / '(1,)type'.\n",
      "  _np_quint16 = np.dtype([(\"quint16\", np.uint16, 1)])\n",
      "C:\\ProgramData\\Anaconda3\\lib\\site-packages\\tensorflow\\python\\framework\\dtypes.py:530: FutureWarning: Passing (type, 1) or '1type' as a synonym of type is deprecated; in a future version of numpy, it will be understood as (type, (1,)) / '(1,)type'.\n",
      "  _np_qint32 = np.dtype([(\"qint32\", np.int32, 1)])\n",
      "C:\\ProgramData\\Anaconda3\\lib\\site-packages\\tensorflow\\python\\framework\\dtypes.py:535: FutureWarning: Passing (type, 1) or '1type' as a synonym of type is deprecated; in a future version of numpy, it will be understood as (type, (1,)) / '(1,)type'.\n",
      "  np_resource = np.dtype([(\"resource\", np.ubyte, 1)])\n",
      "C:\\ProgramData\\Anaconda3\\lib\\site-packages\\h5py\\__init__.py:36: FutureWarning: Conversion of the second argument of issubdtype from `float` to `np.floating` is deprecated. In future, it will be treated as `np.float64 == np.dtype(float).type`.\n",
      "  from ._conv import register_converters as _register_converters\n"
     ]
    }
   ],
   "source": [
    "from keras_applications.resnet import ResNet50\n",
    "#from tensorflow.keras.applications.resnet import preprocess_input \n",
    "from sklearn.model_selection import train_test_split\n",
    "import matplotlib.pyplot as plt\n",
    "import tensorflow as tf\n",
    "import pandas as pd\n",
    "import numpy as np"
   ]
  },
  {
   "cell_type": "code",
   "execution_count": 2,
   "metadata": {},
   "outputs": [
    {
     "data": {
      "text/plain": [
       "'C:\\\\Users\\\\demo'"
      ]
     },
     "execution_count": 2,
     "metadata": {},
     "output_type": "execute_result"
    }
   ],
   "source": [
    "import os\n",
    "os.getcwd()"
   ]
  },
  {
   "cell_type": "code",
   "execution_count": 3,
   "metadata": {},
   "outputs": [],
   "source": [
    "#change the directory\n",
    "os.chdir('C:\\dog_breed')"
   ]
  },
  {
   "cell_type": "markdown",
   "metadata": {},
   "source": [
    "# loading the dataset"
   ]
  },
  {
   "cell_type": "code",
   "execution_count": 4,
   "metadata": {},
   "outputs": [],
   "source": [
    "train_df = pd.read_csv(\"labels.csv\")"
   ]
  },
  {
   "cell_type": "markdown",
   "metadata": {},
   "source": [
    "# we need only required breeds"
   ]
  },
  {
   "cell_type": "code",
   "execution_count": 5,
   "metadata": {},
   "outputs": [],
   "source": [
    "train_df = train_df.loc[(train_df.breed == 'beagle') | (train_df.breed == 'doberman') | (train_df.breed == 'chihuahua') | (train_df.breed == 'french_bulldog') | (train_df.breed == 'golden_retriever') | (train_df.breed == 'malamute') | (train_df.breed == 'pug') | (train_df.breed == 'saint_bernard') | (train_df.breed == 'scottish_deerhound') | (train_df.breed == 'tibetan_mastiff')].reset_index(drop=True)"
   ]
  },
  {
   "cell_type": "code",
   "execution_count": 6,
   "metadata": {},
   "outputs": [
    {
     "data": {
      "text/html": [
       "<div>\n",
       "<style scoped>\n",
       "    .dataframe tbody tr th:only-of-type {\n",
       "        vertical-align: middle;\n",
       "    }\n",
       "\n",
       "    .dataframe tbody tr th {\n",
       "        vertical-align: top;\n",
       "    }\n",
       "\n",
       "    .dataframe thead th {\n",
       "        text-align: right;\n",
       "    }\n",
       "</style>\n",
       "<table border=\"1\" class=\"dataframe\">\n",
       "  <thead>\n",
       "    <tr style=\"text-align: right;\">\n",
       "      <th></th>\n",
       "      <th>id</th>\n",
       "      <th>breed</th>\n",
       "    </tr>\n",
       "  </thead>\n",
       "  <tbody>\n",
       "    <tr>\n",
       "      <th>0</th>\n",
       "      <td>0021f9ceb3235effd7fcde7f7538ed62</td>\n",
       "      <td>golden_retriever</td>\n",
       "    </tr>\n",
       "    <tr>\n",
       "      <th>1</th>\n",
       "      <td>0042188c895a2f14ef64a918ed9c7b64</td>\n",
       "      <td>scottish_deerhound</td>\n",
       "    </tr>\n",
       "    <tr>\n",
       "      <th>2</th>\n",
       "      <td>008b1271ed1addaccf93783b39deab45</td>\n",
       "      <td>doberman</td>\n",
       "    </tr>\n",
       "    <tr>\n",
       "      <th>3</th>\n",
       "      <td>00a366d4b4a9bbb6c8a63126697b7656</td>\n",
       "      <td>golden_retriever</td>\n",
       "    </tr>\n",
       "    <tr>\n",
       "      <th>4</th>\n",
       "      <td>0100f55e4f0fe28f2c0465d3fc4b9897</td>\n",
       "      <td>golden_retriever</td>\n",
       "    </tr>\n",
       "    <tr>\n",
       "      <th>5</th>\n",
       "      <td>01e787576c003930f96c966f9c3e1d44</td>\n",
       "      <td>scottish_deerhound</td>\n",
       "    </tr>\n",
       "    <tr>\n",
       "      <th>6</th>\n",
       "      <td>01f429667104c0c5a5f321700f15435c</td>\n",
       "      <td>malamute</td>\n",
       "    </tr>\n",
       "    <tr>\n",
       "      <th>7</th>\n",
       "      <td>0206c12e8984e3c8a166cc272de25d6f</td>\n",
       "      <td>chihuahua</td>\n",
       "    </tr>\n",
       "    <tr>\n",
       "      <th>8</th>\n",
       "      <td>023e4e28415506e0deddcbd8f8bdab29</td>\n",
       "      <td>pug</td>\n",
       "    </tr>\n",
       "    <tr>\n",
       "      <th>9</th>\n",
       "      <td>02508e76981e1ba059d785704b4c480c</td>\n",
       "      <td>pug</td>\n",
       "    </tr>\n",
       "    <tr>\n",
       "      <th>10</th>\n",
       "      <td>02ff77af410e966b7b661f6f0789d947</td>\n",
       "      <td>golden_retriever</td>\n",
       "    </tr>\n",
       "    <tr>\n",
       "      <th>11</th>\n",
       "      <td>039bdddd8546f0fafdf984b810d1138b</td>\n",
       "      <td>saint_bernard</td>\n",
       "    </tr>\n",
       "    <tr>\n",
       "      <th>12</th>\n",
       "      <td>03b0e7ace52c10dc4878f60307cdebe3</td>\n",
       "      <td>saint_bernard</td>\n",
       "    </tr>\n",
       "    <tr>\n",
       "      <th>13</th>\n",
       "      <td>03dc61595ad9dbf49e3998cf586ca8cb</td>\n",
       "      <td>scottish_deerhound</td>\n",
       "    </tr>\n",
       "    <tr>\n",
       "      <th>14</th>\n",
       "      <td>03ddfa6f292b49e14ed6be5c58246701</td>\n",
       "      <td>malamute</td>\n",
       "    </tr>\n",
       "    <tr>\n",
       "      <th>15</th>\n",
       "      <td>046d8f04a5a42872774110c6a2db1224</td>\n",
       "      <td>doberman</td>\n",
       "    </tr>\n",
       "    <tr>\n",
       "      <th>16</th>\n",
       "      <td>04d5d382a8a02d68859850dc282d3ac4</td>\n",
       "      <td>doberman</td>\n",
       "    </tr>\n",
       "    <tr>\n",
       "      <th>17</th>\n",
       "      <td>0566a60d7504a6fad4161d0ef2765a34</td>\n",
       "      <td>beagle</td>\n",
       "    </tr>\n",
       "    <tr>\n",
       "      <th>18</th>\n",
       "      <td>056b535b441278e83839984f1b1da0a6</td>\n",
       "      <td>scottish_deerhound</td>\n",
       "    </tr>\n",
       "    <tr>\n",
       "      <th>19</th>\n",
       "      <td>05719b998e57a11b863a322ecc7652a5</td>\n",
       "      <td>scottish_deerhound</td>\n",
       "    </tr>\n",
       "    <tr>\n",
       "      <th>20</th>\n",
       "      <td>058d4bfce39c9f1157ca4c1b019bbf1a</td>\n",
       "      <td>scottish_deerhound</td>\n",
       "    </tr>\n",
       "    <tr>\n",
       "      <th>21</th>\n",
       "      <td>06ce71ab05143b1fe45ba8eeba2e97e4</td>\n",
       "      <td>pug</td>\n",
       "    </tr>\n",
       "    <tr>\n",
       "      <th>22</th>\n",
       "      <td>0743bfe9525b7a6310a297b11b7e154a</td>\n",
       "      <td>doberman</td>\n",
       "    </tr>\n",
       "    <tr>\n",
       "      <th>23</th>\n",
       "      <td>079509ceab0968ce07cffa0df479f1b0</td>\n",
       "      <td>doberman</td>\n",
       "    </tr>\n",
       "    <tr>\n",
       "      <th>24</th>\n",
       "      <td>07d6e906eb95f24c53eb92ecc2d47783</td>\n",
       "      <td>pug</td>\n",
       "    </tr>\n",
       "    <tr>\n",
       "      <th>25</th>\n",
       "      <td>0825e8471e3c9a14dc341bdd8630f05e</td>\n",
       "      <td>golden_retriever</td>\n",
       "    </tr>\n",
       "    <tr>\n",
       "      <th>26</th>\n",
       "      <td>08946697b3e50e602d6bea765c8fb9f5</td>\n",
       "      <td>scottish_deerhound</td>\n",
       "    </tr>\n",
       "    <tr>\n",
       "      <th>27</th>\n",
       "      <td>089fd270df9e42e3f741452a4e437dc5</td>\n",
       "      <td>chihuahua</td>\n",
       "    </tr>\n",
       "    <tr>\n",
       "      <th>28</th>\n",
       "      <td>099b068027c41251d29f75a311cc5e5c</td>\n",
       "      <td>french_bulldog</td>\n",
       "    </tr>\n",
       "    <tr>\n",
       "      <th>29</th>\n",
       "      <td>09a1ea62ffa4b9389c03162bb0b0b572</td>\n",
       "      <td>saint_bernard</td>\n",
       "    </tr>\n",
       "    <tr>\n",
       "      <th>...</th>\n",
       "      <td>...</td>\n",
       "      <td>...</td>\n",
       "    </tr>\n",
       "    <tr>\n",
       "      <th>811</th>\n",
       "      <td>f6575543e0456836d1fc6871e586a6e0</td>\n",
       "      <td>pug</td>\n",
       "    </tr>\n",
       "    <tr>\n",
       "      <th>812</th>\n",
       "      <td>f6e3a909254785d410b2418647034a5a</td>\n",
       "      <td>pug</td>\n",
       "    </tr>\n",
       "    <tr>\n",
       "      <th>813</th>\n",
       "      <td>f72944994eecb182f41456a820149950</td>\n",
       "      <td>pug</td>\n",
       "    </tr>\n",
       "    <tr>\n",
       "      <th>814</th>\n",
       "      <td>f74b4a01eae15a3d909c643e116bcfca</td>\n",
       "      <td>pug</td>\n",
       "    </tr>\n",
       "    <tr>\n",
       "      <th>815</th>\n",
       "      <td>f76f9724c66f6b62edc1ac44fecaa27d</td>\n",
       "      <td>golden_retriever</td>\n",
       "    </tr>\n",
       "    <tr>\n",
       "      <th>816</th>\n",
       "      <td>f84d455704632ab197b47cfe4061da36</td>\n",
       "      <td>saint_bernard</td>\n",
       "    </tr>\n",
       "    <tr>\n",
       "      <th>817</th>\n",
       "      <td>f8cc0c4e9be6827494a77260d383884f</td>\n",
       "      <td>pug</td>\n",
       "    </tr>\n",
       "    <tr>\n",
       "      <th>818</th>\n",
       "      <td>f8ed43ad1a94147b0a53b9cb3fb2d4bc</td>\n",
       "      <td>malamute</td>\n",
       "    </tr>\n",
       "    <tr>\n",
       "      <th>819</th>\n",
       "      <td>f901c393eca491f1c03b88b31fa956fc</td>\n",
       "      <td>scottish_deerhound</td>\n",
       "    </tr>\n",
       "    <tr>\n",
       "      <th>820</th>\n",
       "      <td>f921b60576b1055884307f1f6d42997f</td>\n",
       "      <td>scottish_deerhound</td>\n",
       "    </tr>\n",
       "    <tr>\n",
       "      <th>821</th>\n",
       "      <td>f9a664aff90ef04521974670cbd19cfe</td>\n",
       "      <td>doberman</td>\n",
       "    </tr>\n",
       "    <tr>\n",
       "      <th>822</th>\n",
       "      <td>fab162b7c732afd2e0886e1fb158862f</td>\n",
       "      <td>beagle</td>\n",
       "    </tr>\n",
       "    <tr>\n",
       "      <th>823</th>\n",
       "      <td>fb211e01f77eedac02e92d6bfeedb3ab</td>\n",
       "      <td>tibetan_mastiff</td>\n",
       "    </tr>\n",
       "    <tr>\n",
       "      <th>824</th>\n",
       "      <td>fb9ee245256bc5c3e14f32c8c69cf6a8</td>\n",
       "      <td>pug</td>\n",
       "    </tr>\n",
       "    <tr>\n",
       "      <th>825</th>\n",
       "      <td>fba73e53151cb751f9c22e63de669923</td>\n",
       "      <td>pug</td>\n",
       "    </tr>\n",
       "    <tr>\n",
       "      <th>826</th>\n",
       "      <td>fd00c84695d64324cc597937320cc0f2</td>\n",
       "      <td>beagle</td>\n",
       "    </tr>\n",
       "    <tr>\n",
       "      <th>827</th>\n",
       "      <td>fd0f827a0d0ad9a2ff60ddf30e5d50be</td>\n",
       "      <td>saint_bernard</td>\n",
       "    </tr>\n",
       "    <tr>\n",
       "      <th>828</th>\n",
       "      <td>fd80cac3ffdcd6ddcfe4d2d6f8f617f2</td>\n",
       "      <td>saint_bernard</td>\n",
       "    </tr>\n",
       "    <tr>\n",
       "      <th>829</th>\n",
       "      <td>fd8d47a35e1c84795b4a2a27b761eb7b</td>\n",
       "      <td>tibetan_mastiff</td>\n",
       "    </tr>\n",
       "    <tr>\n",
       "      <th>830</th>\n",
       "      <td>fdcbedc65f600f81df181e9a46858cbb</td>\n",
       "      <td>chihuahua</td>\n",
       "    </tr>\n",
       "    <tr>\n",
       "      <th>831</th>\n",
       "      <td>fdcf75632c624d8d03b37ddb1c6fc592</td>\n",
       "      <td>tibetan_mastiff</td>\n",
       "    </tr>\n",
       "    <tr>\n",
       "      <th>832</th>\n",
       "      <td>fdf83a2eed71f2c54c3e6f592e84b254</td>\n",
       "      <td>doberman</td>\n",
       "    </tr>\n",
       "    <tr>\n",
       "      <th>833</th>\n",
       "      <td>fdfcc3d2e40970fbfb8521bd29e9fb4d</td>\n",
       "      <td>saint_bernard</td>\n",
       "    </tr>\n",
       "    <tr>\n",
       "      <th>834</th>\n",
       "      <td>fe03d2d88e9a68aeeac63f33a920557d</td>\n",
       "      <td>french_bulldog</td>\n",
       "    </tr>\n",
       "    <tr>\n",
       "      <th>835</th>\n",
       "      <td>fe0beca881efd723510e8e859306a3a6</td>\n",
       "      <td>pug</td>\n",
       "    </tr>\n",
       "    <tr>\n",
       "      <th>836</th>\n",
       "      <td>fe50bac6c389d137ea01c9cfc7346ca8</td>\n",
       "      <td>scottish_deerhound</td>\n",
       "    </tr>\n",
       "    <tr>\n",
       "      <th>837</th>\n",
       "      <td>fe624532170510bd80627c0500bafc97</td>\n",
       "      <td>tibetan_mastiff</td>\n",
       "    </tr>\n",
       "    <tr>\n",
       "      <th>838</th>\n",
       "      <td>feb16cf86c9dac6d476e3c372ba5c279</td>\n",
       "      <td>pug</td>\n",
       "    </tr>\n",
       "    <tr>\n",
       "      <th>839</th>\n",
       "      <td>febcab8eb2da444bf83336cffec7eb92</td>\n",
       "      <td>golden_retriever</td>\n",
       "    </tr>\n",
       "    <tr>\n",
       "      <th>840</th>\n",
       "      <td>ff6f47aa8e181b6efa4d0be7b09b5628</td>\n",
       "      <td>golden_retriever</td>\n",
       "    </tr>\n",
       "  </tbody>\n",
       "</table>\n",
       "<p>841 rows × 2 columns</p>\n",
       "</div>"
      ],
      "text/plain": [
       "                                   id               breed\n",
       "0    0021f9ceb3235effd7fcde7f7538ed62    golden_retriever\n",
       "1    0042188c895a2f14ef64a918ed9c7b64  scottish_deerhound\n",
       "2    008b1271ed1addaccf93783b39deab45            doberman\n",
       "3    00a366d4b4a9bbb6c8a63126697b7656    golden_retriever\n",
       "4    0100f55e4f0fe28f2c0465d3fc4b9897    golden_retriever\n",
       "5    01e787576c003930f96c966f9c3e1d44  scottish_deerhound\n",
       "6    01f429667104c0c5a5f321700f15435c            malamute\n",
       "7    0206c12e8984e3c8a166cc272de25d6f           chihuahua\n",
       "8    023e4e28415506e0deddcbd8f8bdab29                 pug\n",
       "9    02508e76981e1ba059d785704b4c480c                 pug\n",
       "10   02ff77af410e966b7b661f6f0789d947    golden_retriever\n",
       "11   039bdddd8546f0fafdf984b810d1138b       saint_bernard\n",
       "12   03b0e7ace52c10dc4878f60307cdebe3       saint_bernard\n",
       "13   03dc61595ad9dbf49e3998cf586ca8cb  scottish_deerhound\n",
       "14   03ddfa6f292b49e14ed6be5c58246701            malamute\n",
       "15   046d8f04a5a42872774110c6a2db1224            doberman\n",
       "16   04d5d382a8a02d68859850dc282d3ac4            doberman\n",
       "17   0566a60d7504a6fad4161d0ef2765a34              beagle\n",
       "18   056b535b441278e83839984f1b1da0a6  scottish_deerhound\n",
       "19   05719b998e57a11b863a322ecc7652a5  scottish_deerhound\n",
       "20   058d4bfce39c9f1157ca4c1b019bbf1a  scottish_deerhound\n",
       "21   06ce71ab05143b1fe45ba8eeba2e97e4                 pug\n",
       "22   0743bfe9525b7a6310a297b11b7e154a            doberman\n",
       "23   079509ceab0968ce07cffa0df479f1b0            doberman\n",
       "24   07d6e906eb95f24c53eb92ecc2d47783                 pug\n",
       "25   0825e8471e3c9a14dc341bdd8630f05e    golden_retriever\n",
       "26   08946697b3e50e602d6bea765c8fb9f5  scottish_deerhound\n",
       "27   089fd270df9e42e3f741452a4e437dc5           chihuahua\n",
       "28   099b068027c41251d29f75a311cc5e5c      french_bulldog\n",
       "29   09a1ea62ffa4b9389c03162bb0b0b572       saint_bernard\n",
       "..                                ...                 ...\n",
       "811  f6575543e0456836d1fc6871e586a6e0                 pug\n",
       "812  f6e3a909254785d410b2418647034a5a                 pug\n",
       "813  f72944994eecb182f41456a820149950                 pug\n",
       "814  f74b4a01eae15a3d909c643e116bcfca                 pug\n",
       "815  f76f9724c66f6b62edc1ac44fecaa27d    golden_retriever\n",
       "816  f84d455704632ab197b47cfe4061da36       saint_bernard\n",
       "817  f8cc0c4e9be6827494a77260d383884f                 pug\n",
       "818  f8ed43ad1a94147b0a53b9cb3fb2d4bc            malamute\n",
       "819  f901c393eca491f1c03b88b31fa956fc  scottish_deerhound\n",
       "820  f921b60576b1055884307f1f6d42997f  scottish_deerhound\n",
       "821  f9a664aff90ef04521974670cbd19cfe            doberman\n",
       "822  fab162b7c732afd2e0886e1fb158862f              beagle\n",
       "823  fb211e01f77eedac02e92d6bfeedb3ab     tibetan_mastiff\n",
       "824  fb9ee245256bc5c3e14f32c8c69cf6a8                 pug\n",
       "825  fba73e53151cb751f9c22e63de669923                 pug\n",
       "826  fd00c84695d64324cc597937320cc0f2              beagle\n",
       "827  fd0f827a0d0ad9a2ff60ddf30e5d50be       saint_bernard\n",
       "828  fd80cac3ffdcd6ddcfe4d2d6f8f617f2       saint_bernard\n",
       "829  fd8d47a35e1c84795b4a2a27b761eb7b     tibetan_mastiff\n",
       "830  fdcbedc65f600f81df181e9a46858cbb           chihuahua\n",
       "831  fdcf75632c624d8d03b37ddb1c6fc592     tibetan_mastiff\n",
       "832  fdf83a2eed71f2c54c3e6f592e84b254            doberman\n",
       "833  fdfcc3d2e40970fbfb8521bd29e9fb4d       saint_bernard\n",
       "834  fe03d2d88e9a68aeeac63f33a920557d      french_bulldog\n",
       "835  fe0beca881efd723510e8e859306a3a6                 pug\n",
       "836  fe50bac6c389d137ea01c9cfc7346ca8  scottish_deerhound\n",
       "837  fe624532170510bd80627c0500bafc97     tibetan_mastiff\n",
       "838  feb16cf86c9dac6d476e3c372ba5c279                 pug\n",
       "839  febcab8eb2da444bf83336cffec7eb92    golden_retriever\n",
       "840  ff6f47aa8e181b6efa4d0be7b09b5628    golden_retriever\n",
       "\n",
       "[841 rows x 2 columns]"
      ]
     },
     "execution_count": 6,
     "metadata": {},
     "output_type": "execute_result"
    }
   ],
   "source": [
    "train_df"
   ]
  },
  {
   "cell_type": "code",
   "execution_count": 7,
   "metadata": {},
   "outputs": [
    {
     "data": {
      "text/plain": [
       "scottish_deerhound    126\n",
       "beagle                105\n",
       "pug                    94\n",
       "saint_bernard          84\n",
       "malamute               81\n",
       "doberman               74\n",
       "chihuahua              71\n",
       "french_bulldog         70\n",
       "tibetan_mastiff        69\n",
       "golden_retriever       67\n",
       "Name: breed, dtype: int64"
      ]
     },
     "execution_count": 7,
     "metadata": {},
     "output_type": "execute_result"
    }
   ],
   "source": [
    "train_df.breed.value_counts()"
   ]
  },
  {
   "cell_type": "markdown",
   "metadata": {},
   "source": [
    "# Creating path for each image"
   ]
  },
  {
   "cell_type": "code",
   "execution_count": 8,
   "metadata": {},
   "outputs": [],
   "source": [
    "train_paths = '../input/dog-breed-identification/train/' + train_df['id'] + '.jpg'"
   ]
  },
  {
   "cell_type": "markdown",
   "metadata": {},
   "source": [
    "# converting Categorical Data to Numerical Data"
   ]
  },
  {
   "cell_type": "code",
   "execution_count": 9,
   "metadata": {},
   "outputs": [],
   "source": [
    "labels = pd.get_dummies(train_df.breed).values"
   ]
  },
  {
   "cell_type": "code",
   "execution_count": 10,
   "metadata": {},
   "outputs": [],
   "source": [
    "column_names = pd.get_dummies(train_df.breed).columns.tolist()"
   ]
  },
  {
   "cell_type": "markdown",
   "metadata": {},
   "source": [
    "# Spliting the data into train and test"
   ]
  },
  {
   "cell_type": "code",
   "execution_count": 11,
   "metadata": {},
   "outputs": [],
   "source": [
    "train_path, valid_path, train_labels, valid_labels = train_test_split(train_paths, labels, test_size=0.3, random_state=42)"
   ]
  },
  {
   "cell_type": "markdown",
   "metadata": {},
   "source": [
    "# Creating dataset with the tf.data API for faster computational speed"
   ]
  },
  {
   "cell_type": "code",
   "execution_count": 12,
   "metadata": {},
   "outputs": [],
   "source": [
    "train_ds = tf.data.Dataset.from_tensor_slices((train_path, train_labels))\n",
    "valid_ds = tf.data.Dataset.from_tensor_slices((valid_path, valid_labels))"
   ]
  },
  {
   "cell_type": "markdown",
   "metadata": {},
   "source": [
    "# Helper function that will take the path and return tf.float32 dtype tensors of the image."
   ]
  },
  {
   "cell_type": "code",
   "execution_count": 13,
   "metadata": {},
   "outputs": [],
   "source": [
    "def decode_train_data(image_path, label):\n",
    "    \n",
    "    img = tf.io.read_file(image_path)\n",
    "    img = tf.io.decode_jpeg(img, channels=3)\n",
    "    img = tf.cast(img, tf.float32) / 255.0\n",
    "    img = tf.image.resize(img,[312,312])\n",
    "    \n",
    "    return img, label"
   ]
  },
  {
   "cell_type": "markdown",
   "metadata": {},
   "source": [
    "# Mapping the helper function for decoding with num_parallel_calls=AUTOTUNE to do multiple operations parallelly."
   ]
  },
  {
   "cell_type": "code",
   "execution_count": 14,
   "metadata": {},
   "outputs": [],
   "source": [
    "train_ds = train_ds.map(decode_train_data, num_parallel_calls=tf.data.experimental.AUTOTUNE)\n",
    "valid_ds = valid_ds.map(decode_train_data, num_parallel_calls=tf.data.experimental.AUTOTUNE)"
   ]
  },
  {
   "cell_type": "code",
   "execution_count": 15,
   "metadata": {},
   "outputs": [],
   "source": [
    "# Data augmentation\n",
    "def augment(img, label):\n",
    "    img = tf.image.random_flip_left_right(img)\n",
    "    img = tf.image.random_flip_up_down(img)\n",
    "    return img, label"
   ]
  },
  {
   "cell_type": "code",
   "execution_count": 16,
   "metadata": {},
   "outputs": [],
   "source": [
    "def configure_for_performance(ds, batch_size = 16):\n",
    "    \n",
    "    ds = ds.cache('/dump.tfcache')\n",
    "    ds = ds.map(augment, num_parallel_calls=tf.data.experimental.AUTOTUNE)\n",
    "    ds = ds.repeat()\n",
    "    ds = ds.shuffle(buffer_size=25)\n",
    "    ds = ds.batch(batch_size)\n",
    "    ds = ds.prefetch(buffer_size=tf.data.experimental.AUTOTUNE)\n",
    "    return ds"
   ]
  },
  {
   "cell_type": "code",
   "execution_count": 17,
   "metadata": {},
   "outputs": [
    {
     "name": "stdout",
     "output_type": "stream",
     "text": [
      "WARNING:tensorflow:From C:\\ProgramData\\Anaconda3\\lib\\site-packages\\tensorflow\\python\\ops\\control_flow_ops.py:3632: colocate_with (from tensorflow.python.framework.ops) is deprecated and will be removed in a future version.\n",
      "Instructions for updating:\n",
      "Colocations handled automatically by placer.\n"
     ]
    }
   ],
   "source": [
    "train_ds_batch = configure_for_performance(train_ds)\n",
    "valid_ds_batch = valid_ds.batch(32)"
   ]
  },
  {
   "cell_type": "markdown",
   "metadata": {},
   "source": [
    "# First we instantiates the ResNet50 architecture as base model with 'ImageNet' weights as default and we set layers of the model as trainable"
   ]
  },
  {
   "cell_type": "code",
   "execution_count": 18,
   "metadata": {},
   "outputs": [
    {
     "name": "stderr",
     "output_type": "stream",
     "text": [
      "C:\\ProgramData\\Anaconda3\\lib\\site-packages\\keras_applications\\resnet50.py:265: UserWarning: The output shape of `ResNet50(include_top=False)` has been changed since Keras 2.2.0.\n",
      "  warnings.warn('The output shape of `ResNet50(include_top=False)` '\n"
     ]
    }
   ],
   "source": [
    "base_model = tf.keras.applications.ResNet50(include_top=False,weights=\"imagenet\")\n",
    "for layers in base_model.layers:\n",
    "    layers.trainable=True"
   ]
  },
  {
   "cell_type": "code",
   "execution_count": 19,
   "metadata": {},
   "outputs": [],
   "source": [
    "#from tensorflow.keras.applications.resnet import preprocess_input\n",
    "from tensorflow.python.keras.applications.resnet50 import preprocess_input\n",
    "\n",
    "def build_model():\n",
    "    inputs = tf.keras.layers.Input(shape=(312, 312, 3))\n",
    "    preprocess = preprocess_input(inputs)\n",
    "    outputs_resnet = base_model(preprocess)\n",
    "    global_avg_pooling = tf.keras.layers.GlobalAveragePooling2D()(outputs_resnet)\n",
    "    dense_1= tf.keras.layers.Dense(512, kernel_regularizer = 'l2')(global_avg_pooling)\n",
    "    bn_1 = tf.keras.layers.BatchNormalization()(dense_1)\n",
    "    activation = tf.keras.layers.Activation('relu')(bn_1)\n",
    "    dropout = tf.keras.layers.Dropout(0.4)(activation)\n",
    "    dense_2 = tf.keras.layers.Dense(10, activation='softmax')(dropout)\n",
    "    \n",
    "    \n",
    "    model = tf.keras.Model(inputs, dense_2)\n",
    "    \n",
    "    model.compile(\n",
    "        optimizer=tf.keras.optimizers.Adam(lr = 3e-4),\n",
    "        loss='categorical_crossentropy',\n",
    "        metrics='acc'\n",
    "    )\n",
    "    \n",
    "    return model"
   ]
  },
  {
   "cell_type": "markdown",
   "metadata": {},
   "source": [
    "# Initialize the model and check it Summary."
   ]
  },
  {
   "cell_type": "code",
   "execution_count": null,
   "metadata": {},
   "outputs": [],
   "source": [
    "model = build_model()\n",
    "\n",
    "model.summary()"
   ]
  },
  {
   "cell_type": "code",
   "execution_count": null,
   "metadata": {},
   "outputs": [],
   "source": [
    "# saving the checkpoint\n",
    "checkpoint = tf.keras.callbacks.ModelCheckpoint(\n",
    "    './model.h5', save_best_only=True, monitor='val_loss', mode='min')\n",
    "lr_reducer = tf.keras.callbacks.ReduceLROnPlateau(\n",
    "    monitor=\"val_loss\", patience=4, min_lr=1e-5, mode='min')"
   ]
  },
  {
   "cell_type": "code",
   "execution_count": null,
   "metadata": {},
   "outputs": [],
   "source": [
    "# Here we set the epochs and steps_per_epoch(no. of samples/batch_size) and then start traing our model.\n",
    "steps_per_epoch = len(train_paths) // 16\n",
    "epochs = 60\n",
    "history = model.fit(\n",
    "                train_ds_batch, \n",
    "                validation_data = valid_ds_batch, \n",
    "                epochs = epochs,\n",
    "                callbacks=[checkpoint, lr_reducer],\n",
    "                steps_per_epoch = steps_per_epoch\n",
    ")\n"
   ]
  },
  {
   "cell_type": "markdown",
   "metadata": {},
   "source": [
    "# Graph plot of Accurarcy and loss of the model during the training."
   ]
  },
  {
   "cell_type": "code",
   "execution_count": null,
   "metadata": {},
   "outputs": [],
   "source": [
    "acc = history.history['acc']\n",
    "val_acc = history.history['val_acc']\n",
    "\n",
    "loss = history.history['loss']\n",
    "val_loss = history.history['val_loss']\n",
    "\n",
    "epochs_range = range(epochs)\n",
    "\n",
    "plt.figure(figsize=(8, 8))\n",
    "plt.subplot(1, 2, 1)\n",
    "plt.plot(epochs_range, acc, label='Training Accuracy')\n",
    "plt.plot(epochs_range, val_acc, label='Validation Accuracy')\n",
    "plt.legend(loc='lower right')\n",
    "plt.title('Training and Validation Accuracy')\n",
    "\n",
    "plt.subplot(1, 2, 2)\n",
    "plt.plot(epochs_range, loss, label='Training Loss')\n",
    "plt.plot(epochs_range, val_loss, label='Validation Loss')\n",
    "plt.legend(loc='upper right')\n",
    "plt.title('Training and Validation Loss')\n",
    "plt.show()"
   ]
  },
  {
   "cell_type": "code",
   "execution_count": null,
   "metadata": {},
   "outputs": [],
   "source": []
  }
 ],
 "metadata": {
  "kernelspec": {
   "display_name": "Python 3",
   "language": "python",
   "name": "python3"
  },
  "language_info": {
   "codemirror_mode": {
    "name": "ipython",
    "version": 3
   },
   "file_extension": ".py",
   "mimetype": "text/x-python",
   "name": "python",
   "nbconvert_exporter": "python",
   "pygments_lexer": "ipython3",
   "version": "3.6.5"
  }
 },
 "nbformat": 4,
 "nbformat_minor": 2
}
